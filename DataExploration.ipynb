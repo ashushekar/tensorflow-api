{
  "nbformat": 4,
  "nbformat_minor": 0,
  "metadata": {
    "colab": {
      "name": "DataExploration.ipynb",
      "provenance": [],
      "collapsed_sections": [],
      "authorship_tag": "ABX9TyNIs0YBw4dBQvb9KRm73beA",
      "include_colab_link": true
    },
    "kernelspec": {
      "name": "python3",
      "display_name": "Python 3"
    },
    "accelerator": "TPU"
  },
  "cells": [
    {
      "cell_type": "markdown",
      "metadata": {
        "id": "view-in-github",
        "colab_type": "text"
      },
      "source": [
        "<a href=\"https://colab.research.google.com/github/ashushekar/tensorflow-api/blob/master/DataExploration.ipynb\" target=\"_parent\"><img src=\"https://colab.research.google.com/assets/colab-badge.svg\" alt=\"Open In Colab\"/></a>"
      ]
    },
    {
      "cell_type": "code",
      "metadata": {
        "id": "kE-8d7t3H8TD",
        "outputId": "90e561c1-3d1d-49fc-a066-3888cf925470",
        "colab": {
          "base_uri": "https://localhost:8080/",
          "height": 35
        }
      },
      "source": [
        "from google.colab import drive\n",
        "drive.mount('/content/gdrive')"
      ],
      "execution_count": 1,
      "outputs": [
        {
          "output_type": "stream",
          "text": [
            "Drive already mounted at /content/gdrive; to attempt to forcibly remount, call drive.mount(\"/content/gdrive\", force_remount=True).\n"
          ],
          "name": "stdout"
        }
      ]
    },
    {
      "cell_type": "code",
      "metadata": {
        "id": "lh5NCoc8fsSO"
      },
      "source": [
        "# !apt-get install openjdk-8-jdk-headless -qq > /dev/null\n",
        "# !wget -q https://www-us.apache.org/dist/spark/spark-3.0.1/spark-3.0.1-bin-hadoop2.7.tgz\n",
        "# !tar xf spark-3.0.1-bin-hadoop2.7.tgz\n",
        "# !pip install -q findspark\n",
        "# !pip install -q PyArrow >= 0.15.1\n",
        "# !pip3 --no-cache-dir install seaborn==0.9.0"
      ],
      "execution_count": 2,
      "outputs": []
    },
    {
      "cell_type": "code",
      "metadata": {
        "id": "rGQFa6J5Ik7-"
      },
      "source": [
        "import os\n",
        "os.environ[\"JAVA_HOME\"] = \"/usr/lib/jvm/java-8-openjdk-amd64\"\n",
        "os.environ[\"SPARK_HOME\"] = \"/content/spark-3.0.1-bin-hadoop2.7\""
      ],
      "execution_count": 3,
      "outputs": []
    },
    {
      "cell_type": "code",
      "metadata": {
        "id": "iWZvK1RvJF-X"
      },
      "source": [
        "import findspark\n",
        "findspark.init()\n",
        "from pyspark.sql import SparkSession\n",
        "spark = SparkSession.builder.master(\"local[*]\").getOrCreate()"
      ],
      "execution_count": 4,
      "outputs": []
    },
    {
      "cell_type": "code",
      "metadata": {
        "id": "0alBEZ3nLqre"
      },
      "source": [
        "# spark.conf.set(\"spark.sql.execution.arrow.pyspark.enabled\", \"true\")\n",
        "# spark.conf.set(\"spark.sql.execution.arrow.enabled\", \"true\")"
      ],
      "execution_count": 5,
      "outputs": []
    },
    {
      "cell_type": "code",
      "metadata": {
        "id": "jWqXxraaL_7g",
        "outputId": "a15a0484-dddc-4cd8-8250-61b58042a969",
        "colab": {
          "base_uri": "https://localhost:8080/",
          "height": 221
        }
      },
      "source": [
        "spark"
      ],
      "execution_count": 6,
      "outputs": [
        {
          "output_type": "execute_result",
          "data": {
            "text/html": [
              "\n",
              "            <div>\n",
              "                <p><b>SparkSession - in-memory</b></p>\n",
              "                \n",
              "        <div>\n",
              "            <p><b>SparkContext</b></p>\n",
              "\n",
              "            <p><a href=\"http://325bd2edf077:4040\">Spark UI</a></p>\n",
              "\n",
              "            <dl>\n",
              "              <dt>Version</dt>\n",
              "                <dd><code>v3.0.1</code></dd>\n",
              "              <dt>Master</dt>\n",
              "                <dd><code>local[*]</code></dd>\n",
              "              <dt>AppName</dt>\n",
              "                <dd><code>pyspark-shell</code></dd>\n",
              "            </dl>\n",
              "        </div>\n",
              "        \n",
              "            </div>\n",
              "        "
            ],
            "text/plain": [
              "<pyspark.sql.session.SparkSession at 0x7f96dbbaaeb8>"
            ]
          },
          "metadata": {
            "tags": []
          },
          "execution_count": 6
        }
      ]
    },
    {
      "cell_type": "code",
      "metadata": {
        "id": "-5fuIDJHJIq-"
      },
      "source": [
        "import sys\n",
        "import time"
      ],
      "execution_count": 7,
      "outputs": []
    },
    {
      "cell_type": "code",
      "metadata": {
        "id": "_uaUZ9JIJUSx"
      },
      "source": [
        "from pyspark import SparkContext, SparkConf\n",
        "from pyspark.sql import SparkSession\n",
        "from pyspark.sql import functions as F\n",
        "from pyspark.sql import types as T\n",
        "from pyspark.sql import Window\n",
        "from pyspark.sql.functions import pandas_udf, PandasUDFType"
      ],
      "execution_count": 8,
      "outputs": []
    },
    {
      "cell_type": "code",
      "metadata": {
        "id": "Gt-xSek3JYkv",
        "outputId": "f459432f-a840-4b1a-f877-db5213198cfe",
        "colab": {
          "base_uri": "https://localhost:8080/",
          "height": 90
        }
      },
      "source": [
        "import matplotlib.pyplot as plt\n",
        "import matplotlib.gridspec as gridspec\n",
        "from scipy.stats import multivariate_normal\n",
        "import seaborn as sns\n",
        "from sklearn.utils import shuffle\n",
        "from sklearn.metrics import precision_recall_fscore_support as prfs\n",
        "from sklearn.preprocessing import StandardScaler, LabelEncoder, MinMaxScaler\n",
        "from sklearn.manifold import TSNE\n",
        "from sklearn.decomposition import PCA\n",
        "from sklearn.neighbors import LocalOutlierFactor\n",
        "from sklearn.ensemble import IsolationForest\n",
        "from scipy.stats import multivariate_normal\n",
        "from sklearn import metrics\n",
        "from sklearn.metrics import f1_score, confusion_matrix, classification_report, precision_recall_fscore_support\n",
        "from sklearn.covariance import EllipticEnvelope\n",
        "from sklearn.svm import OneClassSVM"
      ],
      "execution_count": 23,
      "outputs": [
        {
          "output_type": "stream",
          "text": [
            "/usr/local/lib/python3.6/dist-packages/statsmodels/tools/_testing.py:19: FutureWarning:\n",
            "\n",
            "pandas.util.testing is deprecated. Use the functions in the public API at pandas.testing instead.\n",
            "\n"
          ],
          "name": "stderr"
        }
      ]
    },
    {
      "cell_type": "code",
      "metadata": {
        "id": "W48jsxMzJaIQ"
      },
      "source": [
        "import pandas as pd\n",
        "import numpy as np\n",
        "from collections import defaultdict"
      ],
      "execution_count": 10,
      "outputs": []
    },
    {
      "cell_type": "code",
      "metadata": {
        "id": "7VhHLeoRJcvf"
      },
      "source": [
        "pd.set_option('display.float_format', lambda x: '%.2f' % x)"
      ],
      "execution_count": 11,
      "outputs": []
    },
    {
      "cell_type": "code",
      "metadata": {
        "id": "tGti2d9lJeZX",
        "outputId": "7f1825f6-14aa-4121-852a-d15fc787cbab",
        "colab": {
          "base_uri": "https://localhost:8080/",
          "height": 17
        }
      },
      "source": [
        "from IPython.display import display\n",
        "import plotly\n",
        "from plotly.offline import download_plotlyjs, init_notebook_mode, plot, iplot\n",
        "import plotly as py\n",
        "import plotly.graph_objs as go\n",
        "from plotly import tools, figure_factory\n",
        "# import qgrid\n",
        "\n",
        "init_notebook_mode(connected=True)"
      ],
      "execution_count": 12,
      "outputs": [
        {
          "output_type": "display_data",
          "data": {
            "text/html": [
              "        <script type=\"text/javascript\">\n",
              "        window.PlotlyConfig = {MathJaxConfig: 'local'};\n",
              "        if (window.MathJax) {MathJax.Hub.Config({SVG: {font: \"STIX-Web\"}});}\n",
              "        if (typeof require !== 'undefined') {\n",
              "        require.undef(\"plotly\");\n",
              "        requirejs.config({\n",
              "            paths: {\n",
              "                'plotly': ['https://cdn.plot.ly/plotly-latest.min']\n",
              "            }\n",
              "        });\n",
              "        require(['plotly'], function(Plotly) {\n",
              "            window._Plotly = Plotly;\n",
              "        });\n",
              "        }\n",
              "        </script>\n",
              "        "
            ]
          },
          "metadata": {
            "tags": []
          }
        }
      ]
    },
    {
      "cell_type": "code",
      "metadata": {
        "id": "rYcFllrSJiYW"
      },
      "source": [
        "config = {\"toImageButtonOptions\": {\"width\": None, \"height\": None}}\n",
        "\n",
        "def buildFontLayout(inFontSize=18):\n",
        "    return dict(size=inFontSize)\n",
        "\n",
        "def builtLayout(xTitle, yTitle, plotTitle, inFontSize=18):\n",
        "    layout = go.Layout(xaxis=dict(title = xTitle), \n",
        "                       yaxis=dict(title = yTitle),\n",
        "                       title = plotTitle,\n",
        "                       font = buildFontLayout(inFontSize),\n",
        "                       showlegend=True)\n",
        "    return layout\n",
        "    "
      ],
      "execution_count": 13,
      "outputs": []
    },
    {
      "cell_type": "code",
      "metadata": {
        "id": "ZCzOC8kIJlNo",
        "outputId": "1cfdb797-2de5-49f0-a994-409726edd36a",
        "colab": {
          "base_uri": "https://localhost:8080/",
          "height": 308
        }
      },
      "source": [
        "FILE_PATH = 'gdrive/My Drive/Colab Notebooks/transactions.csv'\n",
        "\n",
        "dfTmp_transactions_data = spark.read.csv(FILE_PATH, \n",
        "                                         header=True, sep=',')\n",
        "\n",
        "# dfTmp_transactions_data = dfTmp_transactions_data.withColumn(\"Date\", \n",
        "#                           F.date_format(F.to_date(F.unix_timestamp(dfTmp_transactions_data.Date, \n",
        "#                                                                    \"yymmdd\").cast(\"timestamp\")), \n",
        "#                                         'yyyy-MM-dd'))\n",
        "\n",
        "# dfTmp_transactions_data = dfTmp_transactions_data.withColumn(\"Time\", \n",
        "#                           F.date_format(F.to_timestamp(F.unix_timestamp(dfTmp_transactions_data.Time, \n",
        "#                                                                    \"HHmm\").cast(\"timestamp\")), \n",
        "#                                         'HH:mm'))\n",
        "\n",
        "# dfTmp_transactions_data = dfTmp_transactions_data.withColumn('Timestamp', \n",
        "#                                                              F.concat(F.col('Date'), \n",
        "#                                                                       F.lit(' '), \n",
        "#                                                                       F.col('Time')))\n",
        "# print(dfTmp_transactions_data.agg(F.min('Date'), F.max('Date')).show())\n",
        "# drop_columns = ['Date', 'Time']\n",
        "# dfTmp_transactions_data = dfTmp_transactions_data.drop(*drop_columns)\n",
        "dfTmp_transactions_data.dropDuplicates()\n",
        "\n",
        "dfTmp_transactions_data.show(10)"
      ],
      "execution_count": 14,
      "outputs": [
        {
          "output_type": "stream",
          "text": [
            "+---+--------+--------+-----------+------+----+-----+--------+------+----+\n",
            "|_c0|  Sender|Receiver|Beneficiary|  Date|Time| Type|Currency| Value|Flag|\n",
            "+---+--------+--------+-----------+------+----+-----+--------+------+----+\n",
            "|  0|AFGTDEXX|DZQYCXXX|   DZQYCXXX|190101|1058|MT202|     NOK| 30730|   0|\n",
            "|  1|AFGTDEXX|IXQWBTXX|   GFJCCXXX|190101|1106|MT103|     BRL|164550|   0|\n",
            "|  2|AFGTDEXX|HBRVDEXX|   HBRVDEXX|190101|1109|MT202|     HKD|336442|   0|\n",
            "|  3|AFGTDEXX|IXQWBTXX|   NNMETOXX|190101|1116|MT103|     BYN| 26777|   0|\n",
            "|  4|AFGTDEXX|QEYFCLXX|   QEYFCLXX|190101|1122|MT103|     UYI| 84396|   0|\n",
            "|  5|AFGTDEXX|IXQWBTXX|   OTANCXXX|190101|1127|MT103|     BYN| 32691|   0|\n",
            "|  6|AFGTDEXX|HPCKDEXX|   HPCKDEXX|190101|1134|MT202|     HKD|560953|   0|\n",
            "|  7|AFGTDEXX|GILMDEXX|   XWZJCLXX|190101|1135|MT202|     UYI|179903|   0|\n",
            "|  8|AFGTDEXX|KQPVNAXX|   WITJAOXX|190101|1137|MT202|     BRL|876850|   0|\n",
            "|  9|AFGTDEXX|WTVRNEXX|   VMBACXXX|190101|1138|MT202|     EUR|126305|   0|\n",
            "+---+--------+--------+-----------+------+----+-----+--------+------+----+\n",
            "only showing top 10 rows\n",
            "\n"
          ],
          "name": "stdout"
        }
      ]
    },
    {
      "cell_type": "code",
      "metadata": {
        "id": "XQrW9Vt_JpwT"
      },
      "source": [
        "# dfTmp_transactions_data.groupBy('Type', 'Flag').count().orderBy('Type').show()\n",
        "# +------+----+--------+\n",
        "# |  Type|Flag|   count|\n",
        "# +------+----+--------+\n",
        "# | MT103|   1|   79914|\n",
        "# | MT103|   0|27024948|\n",
        "# | MT202|   1|   19908|\n",
        "# | MT202|   0|13900033|\n",
        "# |MT202C|   0| 4708331|\n",
        "# +------+----+--------+"
      ],
      "execution_count": 15,
      "outputs": []
    },
    {
      "cell_type": "code",
      "metadata": {
        "id": "5d518mpWKtlD"
      },
      "source": [
        "dfTmp_d190101 = dfTmp_transactions_data.filter(dfTmp_transactions_data.Date == '190129')"
      ],
      "execution_count": 16,
      "outputs": []
    },
    {
      "cell_type": "code",
      "metadata": {
        "id": "9dVoa9nyM0vU",
        "outputId": "3e98073f-a050-45bd-a25c-b9cbfe7d283a",
        "colab": {
          "base_uri": "https://localhost:8080/",
          "height": 308
        }
      },
      "source": [
        "dfTmp_d190101.show(10)"
      ],
      "execution_count": 17,
      "outputs": [
        {
          "output_type": "stream",
          "text": [
            "+----+--------+--------+-----------+------+----+------+--------+------+----+\n",
            "| _c0|  Sender|Receiver|Beneficiary|  Date|Time|  Type|Currency| Value|Flag|\n",
            "+----+--------+--------+-----------+------+----+------+--------+------+----+\n",
            "|3287|AFGTDEXX|IXQWBTXX|   ASMDBTXX|190129| 915|MT202C|     BRL| 98372|   0|\n",
            "|3288|AFGTDEXX|IXQWBTXX|   BDRQBTXX|190129| 916| MT103|     BRL| 84023|   0|\n",
            "|3289|AFGTDEXX|MBXOBZXX|   HPCKDEXX|190129|1029| MT202|     HKD|233222|   0|\n",
            "|3290|AFGTDEXX|WTVRNEXX|   HPCKDEXX|190129|1054| MT103|     EUR|186373|   0|\n",
            "|3291|AFGTDEXX|FKUTPGXX|   OTANCXXX|190129|1105| MT202|     BYN| 62600|   0|\n",
            "|3292|AFGTDEXX|IMYTIOXX|   IMYTIOXX|190129|1106| MT103|     HKD| 88915|   0|\n",
            "|3293|AFGTDEXX|FHEVMHXX|   FHEVMHXX|190129|1115| MT202|     BRL|114992|   0|\n",
            "|3294|AFGTDEXX|MYCRDEXX|   MYCRDEXX|190129|1116| MT202|     BRL|178912|   0|\n",
            "|3295|AFGTDEXX|LXYPIEXX|   QEYFCLXX|190129|1117| MT103|     EUR| 34567|   0|\n",
            "|3296|AFGTDEXX|IXQWBTXX|   WCMUAOXX|190129|1119| MT202|     BYN|249322|   0|\n",
            "+----+--------+--------+-----------+------+----+------+--------+------+----+\n",
            "only showing top 10 rows\n",
            "\n"
          ],
          "name": "stdout"
        }
      ]
    },
    {
      "cell_type": "code",
      "metadata": {
        "id": "gWriwg33M2kO",
        "outputId": "dc6b7090-01a4-486f-f283-a7f9378cd9b6",
        "colab": {
          "base_uri": "https://localhost:8080/",
          "height": 35
        }
      },
      "source": [
        "dfTmp_d190101.count()"
      ],
      "execution_count": 18,
      "outputs": [
        {
          "output_type": "execute_result",
          "data": {
            "text/plain": [
              "174016"
            ]
          },
          "metadata": {
            "tags": []
          },
          "execution_count": 18
        }
      ]
    },
    {
      "cell_type": "code",
      "metadata": {
        "id": "wU9oNBm7M4VF"
      },
      "source": [
        "dfTmp_d190101_pd = dfTmp_d190101.toPandas()\n",
        "dfTmp_d190101_pd['period'] = pd.to_datetime(dfTmp_d190101_pd[\"Date\"] + '_' + dfTmp_d190101_pd[\"Time\"], \n",
        "                                            format='%y%m%d_%H%M')\n",
        "dfTmp_d190101_pd = dfTmp_d190101_pd.sort_values(by='period').reset_index()"
      ],
      "execution_count": 19,
      "outputs": []
    },
    {
      "cell_type": "code",
      "metadata": {
        "id": "Y9X65el1KFt6",
        "outputId": "fd2a1274-5747-4d3d-8692-7301a361fa88",
        "colab": {
          "base_uri": "https://localhost:8080/",
          "height": 361
        }
      },
      "source": [
        "# Exploring the dataset\n",
        "df = dfTmp_d190101_pd[['Sender', 'Receiver', 'Beneficiary', 'Type', 'Currency', 'Value', 'Flag', 'period']]\n",
        "df['Flag'] = pd.to_numeric(df['Flag'].values)\n",
        "df['Value'] = pd.to_numeric(df['Value'].values)\n",
        "\n",
        "print(\"Dataset is of shape: {}\".format(df.shape))\n",
        "print(\"Flagged cases: {}\".format(len(df[df.Flag==1])))\n",
        "print(\"Normal cases: {}\".format(len(df[df.Flag==0])))\n",
        "PercFlagged = np.round((float(len(df[df.Flag==1]))/len(df)), 4)\n",
        "print(\"Contamination: {}\".format(PercFlagged))\n",
        "df.describe()"
      ],
      "execution_count": 33,
      "outputs": [
        {
          "output_type": "stream",
          "text": [
            "Dataset is of shape: (174016, 8)\n",
            "Flagged cases: 394\n",
            "Normal cases: 173622\n",
            "Contamination: 0.0023\n"
          ],
          "name": "stdout"
        },
        {
          "output_type": "execute_result",
          "data": {
            "text/html": [
              "<div>\n",
              "<style scoped>\n",
              "    .dataframe tbody tr th:only-of-type {\n",
              "        vertical-align: middle;\n",
              "    }\n",
              "\n",
              "    .dataframe tbody tr th {\n",
              "        vertical-align: top;\n",
              "    }\n",
              "\n",
              "    .dataframe thead th {\n",
              "        text-align: right;\n",
              "    }\n",
              "</style>\n",
              "<table border=\"1\" class=\"dataframe\">\n",
              "  <thead>\n",
              "    <tr style=\"text-align: right;\">\n",
              "      <th></th>\n",
              "      <th>Value</th>\n",
              "      <th>Flag</th>\n",
              "    </tr>\n",
              "  </thead>\n",
              "  <tbody>\n",
              "    <tr>\n",
              "      <th>count</th>\n",
              "      <td>174016.00</td>\n",
              "      <td>174016.00</td>\n",
              "    </tr>\n",
              "    <tr>\n",
              "      <th>mean</th>\n",
              "      <td>370011.60</td>\n",
              "      <td>0.00</td>\n",
              "    </tr>\n",
              "    <tr>\n",
              "      <th>std</th>\n",
              "      <td>673729.09</td>\n",
              "      <td>0.05</td>\n",
              "    </tr>\n",
              "    <tr>\n",
              "      <th>min</th>\n",
              "      <td>9.00</td>\n",
              "      <td>0.00</td>\n",
              "    </tr>\n",
              "    <tr>\n",
              "      <th>25%</th>\n",
              "      <td>58331.00</td>\n",
              "      <td>0.00</td>\n",
              "    </tr>\n",
              "    <tr>\n",
              "      <th>50%</th>\n",
              "      <td>155660.00</td>\n",
              "      <td>0.00</td>\n",
              "    </tr>\n",
              "    <tr>\n",
              "      <th>75%</th>\n",
              "      <td>392346.75</td>\n",
              "      <td>0.00</td>\n",
              "    </tr>\n",
              "    <tr>\n",
              "      <th>max</th>\n",
              "      <td>22397986.00</td>\n",
              "      <td>1.00</td>\n",
              "    </tr>\n",
              "  </tbody>\n",
              "</table>\n",
              "</div>"
            ],
            "text/plain": [
              "            Value      Flag\n",
              "count   174016.00 174016.00\n",
              "mean    370011.60      0.00\n",
              "std     673729.09      0.05\n",
              "min          9.00      0.00\n",
              "25%      58331.00      0.00\n",
              "50%     155660.00      0.00\n",
              "75%     392346.75      0.00\n",
              "max   22397986.00      1.00"
            ]
          },
          "metadata": {
            "tags": []
          },
          "execution_count": 33
        }
      ]
    },
    {
      "cell_type": "code",
      "metadata": {
        "id": "q8kQ-kPBNbcw",
        "outputId": "7b666f40-3bf3-4856-d23e-c35584cfc256",
        "colab": {
          "base_uri": "https://localhost:8080/",
          "height": 198
        }
      },
      "source": [
        "# Encoding the variable\n",
        "d = defaultdict(LabelEncoder)\n",
        "fit = df[['Sender', 'Receiver', 'Beneficiary', 'Type', 'Currency', 'period']].apply(lambda x: d[x.name].fit_transform(x))\n",
        "\n",
        "fit_copy = fit.copy()\n",
        "fit['Class'] = df['Flag'].values\n",
        "fit['Value'] = df['Value'].values\n",
        "\n",
        "df = fit.copy()\n",
        "df.head(5)"
      ],
      "execution_count": 34,
      "outputs": [
        {
          "output_type": "execute_result",
          "data": {
            "text/html": [
              "<div>\n",
              "<style scoped>\n",
              "    .dataframe tbody tr th:only-of-type {\n",
              "        vertical-align: middle;\n",
              "    }\n",
              "\n",
              "    .dataframe tbody tr th {\n",
              "        vertical-align: top;\n",
              "    }\n",
              "\n",
              "    .dataframe thead th {\n",
              "        text-align: right;\n",
              "    }\n",
              "</style>\n",
              "<table border=\"1\" class=\"dataframe\">\n",
              "  <thead>\n",
              "    <tr style=\"text-align: right;\">\n",
              "      <th></th>\n",
              "      <th>Sender</th>\n",
              "      <th>Receiver</th>\n",
              "      <th>Beneficiary</th>\n",
              "      <th>Type</th>\n",
              "      <th>Currency</th>\n",
              "      <th>period</th>\n",
              "      <th>Class</th>\n",
              "      <th>Value</th>\n",
              "    </tr>\n",
              "  </thead>\n",
              "  <tbody>\n",
              "    <tr>\n",
              "      <th>0</th>\n",
              "      <td>209</td>\n",
              "      <td>6565</td>\n",
              "      <td>4377</td>\n",
              "      <td>1</td>\n",
              "      <td>32</td>\n",
              "      <td>0</td>\n",
              "      <td>0</td>\n",
              "      <td>182212</td>\n",
              "    </tr>\n",
              "    <tr>\n",
              "      <th>1</th>\n",
              "      <td>222</td>\n",
              "      <td>897</td>\n",
              "      <td>1207</td>\n",
              "      <td>1</td>\n",
              "      <td>98</td>\n",
              "      <td>1</td>\n",
              "      <td>1</td>\n",
              "      <td>414200</td>\n",
              "    </tr>\n",
              "    <tr>\n",
              "      <th>2</th>\n",
              "      <td>1</td>\n",
              "      <td>9703</td>\n",
              "      <td>1069</td>\n",
              "      <td>2</td>\n",
              "      <td>13</td>\n",
              "      <td>2</td>\n",
              "      <td>0</td>\n",
              "      <td>534930</td>\n",
              "    </tr>\n",
              "    <tr>\n",
              "      <th>3</th>\n",
              "      <td>161</td>\n",
              "      <td>2155</td>\n",
              "      <td>108</td>\n",
              "      <td>1</td>\n",
              "      <td>35</td>\n",
              "      <td>3</td>\n",
              "      <td>0</td>\n",
              "      <td>108798</td>\n",
              "    </tr>\n",
              "    <tr>\n",
              "      <th>4</th>\n",
              "      <td>231</td>\n",
              "      <td>206</td>\n",
              "      <td>1528</td>\n",
              "      <td>1</td>\n",
              "      <td>17</td>\n",
              "      <td>4</td>\n",
              "      <td>0</td>\n",
              "      <td>333106</td>\n",
              "    </tr>\n",
              "  </tbody>\n",
              "</table>\n",
              "</div>"
            ],
            "text/plain": [
              "   Sender  Receiver  Beneficiary  Type  Currency  period  Class   Value\n",
              "0     209      6565         4377     1        32       0      0  182212\n",
              "1     222       897         1207     1        98       1      1  414200\n",
              "2       1      9703         1069     2        13       2      0  534930\n",
              "3     161      2155          108     1        35       3      0  108798\n",
              "4     231       206         1528     1        17       4      0  333106"
            ]
          },
          "metadata": {
            "tags": []
          },
          "execution_count": 34
        }
      ]
    },
    {
      "cell_type": "code",
      "metadata": {
        "id": "2v6AnK5pNg8e",
        "outputId": "42da98db-b0d6-413c-cb0e-2487612bb604",
        "colab": {
          "base_uri": "https://localhost:8080/",
          "height": 620
        }
      },
      "source": [
        "columns = df.drop('Class', axis=1).columns\n",
        "grid = gridspec.GridSpec(2, 4)\n",
        "\n",
        "plt.figure(figsize=(25, 10))\n",
        "\n",
        "for n, col in enumerate(df[columns]):\n",
        "    ax = plt.subplot(grid[n])\n",
        "    sns.distplot(df[df.Class==1][col], bins=50, color='g')\n",
        "    sns.distplot(df[df.Class==0][col], bins=50, color='r')\n",
        "    ax.set_ylabel('Density')\n",
        "    ax.set_title(str(col))\n",
        "    ax.set_xlabel('')\n",
        "    \n",
        "plt.show()"
      ],
      "execution_count": 35,
      "outputs": [
        {
          "output_type": "display_data",
          "data": {
            "image/png": "[encoded data removed]",
            "text/plain": [
              "<Figure size 1800x720 with 7 Axes>"
            ]
          },
          "metadata": {
            "tags": [],
            "needs_background": "light"
          }
        }
      ]
    },
    {
      "cell_type": "code",
      "metadata": {
        "id": "p5XEmxciSxBR"
      },
      "source": [
        "normal_data = df[df.Class == 0]\n",
        "flagged_data = df[df.Class == 1]"
      ],
      "execution_count": 36,
      "outputs": []
    },
    {
      "cell_type": "code",
      "metadata": {
        "id": "YxaadzLlusOU"
      },
      "source": [
        "print(len(normal_data))\n",
        "print(len(flagged_data))"
      ],
      "execution_count": null,
      "outputs": []
    },
    {
      "cell_type": "code",
      "metadata": {
        "id": "nQU6_S_9S7kl",
        "outputId": "4c165dad-0781-42ee-8ac5-192cfe251fc0",
        "colab": {
          "base_uri": "https://localhost:8080/",
          "height": 549
        }
      },
      "source": [
        "normal_data['period'].hist(bins=100)\n",
        "plt.figure()\n",
        "flagged_data['period'].hist(bins=100)\n",
        "plt.figure()"
      ],
      "execution_count": 37,
      "outputs": [
        {
          "output_type": "execute_result",
          "data": {
            "text/plain": [
              "<Figure size 432x288 with 0 Axes>"
            ]
          },
          "metadata": {
            "tags": []
          },
          "execution_count": 37
        },
        {
          "output_type": "display_data",
          "data": {
            "image/png": "[encoded data removed]",
            "text/plain": [
              "<Figure size 432x288 with 1 Axes>"
            ]
          },
          "metadata": {
            "tags": [],
            "needs_background": "light"
          }
        },
        {
          "output_type": "display_data",
          "data": {
            "image/png": "[encoded data removed]",
            "text/plain": [
              "<Figure size 432x288 with 1 Axes>"
            ]
          },
          "metadata": {
            "tags": [],
            "needs_background": "light"
          }
        },
        {
          "output_type": "display_data",
          "data": {
            "text/plain": [
              "<Figure size 432x288 with 0 Axes>"
            ]
          },
          "metadata": {
            "tags": []
          }
        }
      ]
    },
    {
      "cell_type": "code",
      "metadata": {
        "id": "dS26pIKmWBnm"
      },
      "source": [
        "# Precision = percentage of flagged caught\n",
        "# Recall = percentage of those caught that are actually Flagged\n",
        "# F1 score = Harmonic mean of P & R\n",
        "# Need to optimize on the hyperparamter of EPSILON"
      ],
      "execution_count": 38,
      "outputs": []
    },
    {
      "cell_type": "code",
      "metadata": {
        "id": "6H-ytl8eW6gR",
        "outputId": "bd9ec2df-f34a-4f84-f4fa-dec192593b03",
        "colab": {
          "base_uri": "https://localhost:8080/",
          "height": 54
        }
      },
      "source": [
        "columns = df.drop('Class', axis=1).columns\n",
        "normal = df[df.Class==0]\n",
        "flagged = df[df.Class==1]\n",
        "sample_size = len(flagged)\n",
        "significant_features = []\n",
        "critical_value = 2.58\n",
        "\n",
        "def ztest(feature):\n",
        "    mean = normal[feature].mean()\n",
        "    std = flagged[feature].std()\n",
        "    \n",
        "    return (flagged[feature].mean() - mean) / (std/np.sqrt(sample_size))\n",
        "\n",
        "for i in columns:\n",
        "    z_value = ztest(i)\n",
        "    \n",
        "    if (abs(z_value) >= critical_value):\n",
        "        print(i, \"is statistically significant\")\n",
        "        significant_features.append(i)"
      ],
      "execution_count": 39,
      "outputs": [
        {
          "output_type": "stream",
          "text": [
            "Type is statistically significant\n",
            "Value is statistically significant\n"
          ],
          "name": "stdout"
        }
      ]
    },
    {
      "cell_type": "code",
      "metadata": {
        "id": "eb9zxWzJVB_W"
      },
      "source": [
        "significant_features.append('Class')\n",
        "# df = df[significant_features]"
      ],
      "execution_count": 40,
      "outputs": []
    },
    {
      "cell_type": "code",
      "metadata": {
        "id": "RRwWijHAkoiO",
        "outputId": "bd4aaad2-efc1-474d-901d-588a219a34ff",
        "colab": {
          "base_uri": "https://localhost:8080/",
          "height": 35
        }
      },
      "source": [
        "significant_features"
      ],
      "execution_count": 41,
      "outputs": [
        {
          "output_type": "execute_result",
          "data": {
            "text/plain": [
              "['Type', 'Value', 'Class']"
            ]
          },
          "metadata": {
            "tags": []
          },
          "execution_count": 41
        }
      ]
    },
    {
      "cell_type": "code",
      "metadata": {
        "id": "LbCPrnyZjThp"
      },
      "source": [
        "df_norm = MinMaxScaler().fit_transform(df.iloc[:, :-1])\n",
        "df_norm = pd.DataFrame(df_norm)\n",
        "df_norm['Class'] = df['Class']\n",
        "normal = df_norm.loc[df_norm['Class'] == 0, :]\n",
        "flagged = df_norm.loc[df_norm['Class'] == 1, :]"
      ],
      "execution_count": 42,
      "outputs": []
    },
    {
      "cell_type": "code",
      "metadata": {
        "id": "gvQHf0wWkynQ",
        "outputId": "95b42d6b-bdf5-4947-a7fc-bf3a47b7cd48",
        "colab": {
          "base_uri": "https://localhost:8080/",
          "height": 35
        }
      },
      "source": [
        "df_norm.columns"
      ],
      "execution_count": 43,
      "outputs": [
        {
          "output_type": "execute_result",
          "data": {
            "text/plain": [
              "Index([0, 1, 2, 3, 4, 5, 6, 'Class'], dtype='object')"
            ]
          },
          "metadata": {
            "tags": []
          },
          "execution_count": 43
        }
      ]
    },
    {
      "cell_type": "code",
      "metadata": {
        "id": "U1tdcNXpkPS5",
        "outputId": "3d3b0418-31d1-4328-bc8d-43cea0694a24",
        "colab": {
          "base_uri": "https://localhost:8080/",
          "height": 54
        }
      },
      "source": [
        "# X = df_norm[[0, 1]]\n",
        "X = df_norm[[0, 1, 2, 3, 4, 5, 6]]\n",
        "y = df_norm['Class']\n",
        "print(X.shape)\n",
        "print(y.shape)"
      ],
      "execution_count": 44,
      "outputs": [
        {
          "output_type": "stream",
          "text": [
            "(174016, 7)\n",
            "(174016,)\n"
          ],
          "name": "stdout"
        }
      ]
    },
    {
      "cell_type": "code",
      "metadata": {
        "id": "1OEMu7jNm8_G",
        "outputId": "9f65213f-958f-4ed8-9820-47f2fd75b91b",
        "colab": {
          "base_uri": "https://localhost:8080/",
          "height": 35
        }
      },
      "source": [
        "df_norm['Class'].unique()"
      ],
      "execution_count": 45,
      "outputs": [
        {
          "output_type": "execute_result",
          "data": {
            "text/plain": [
              "array([0, 1])"
            ]
          },
          "metadata": {
            "tags": []
          },
          "execution_count": 45
        }
      ]
    },
    {
      "cell_type": "markdown",
      "metadata": {
        "id": "8yoZGzzqk5-O"
      },
      "source": [
        "## Modelling"
      ]
    },
    {
      "cell_type": "code",
      "metadata": {
        "id": "fxeNU2GCfrsb"
      },
      "source": [
        "classifiers = {\n",
        "    \"ISOLATION FOREST\": IsolationForest(n_estimators=155, max_samples=len(X), contamination=PercFlagged, random_state=42, verbose=0),\n",
        "    \"LOCAL OUTLIER FACTOR\": LocalOutlierFactor(n_neighbors=200, algorithm='auto', leaf_size=230, metric='euclidean', p=1, metric_params=None, contamination=PercFlagged),\n",
        "    \"ONE CLASS SVM\": OneClassSVM(kernel='rbf', degree=3, gamma='auto', nu=PercFlagged, max_iter=-1)\n",
        "}"
      ],
      "execution_count": 46,
      "outputs": []
    },
    {
      "cell_type": "code",
      "metadata": {
        "id": "FdVoj2HemL_Q",
        "outputId": "18eb7cf2-399a-4a19-9566-6642b29471f6",
        "colab": {
          "base_uri": "https://localhost:8080/",
          "height": 890
        }
      },
      "source": [
        "for i, (clf_name, clf) in enumerate(classifiers.items()):\n",
        "  # fit the data and tag outliers\n",
        "  if clf_name == \"LOCAL OUTLIER FACTOR\":\n",
        "    y_pred = clf.fit_predict(X)\n",
        "    scores_prediction = clf.negative_outlier_factor_\n",
        "  elif clf_name == \"ONE CLASS SVM\":\n",
        "    clf.fit(X)\n",
        "    y_pred = clf.predict(X)\n",
        "  else:\n",
        "    clf.fit(X)\n",
        "    scores_prediction = clf.decision_function(X)\n",
        "    y_pred = clf.predict(X)\n",
        "\n",
        "  y_pred[y_pred == 1] = 0\n",
        "  y_pred[y_pred == -1] = 1\n",
        "  n_errors = (y_pred != y).sum()\n",
        "\n",
        "  # run classification metrics\n",
        "  print(\"{} number of errors: {}\".format(clf_name, n_errors))\n",
        "  print(pd.crosstab(y, y_pred))\n",
        "  # print(\"Silhouette Coefficient: \", round(metrics.silhouette_score(df, y_pred, metric='euclidean'), 3))\n",
        "  print(\"Adjusted Rand Index : \", round(metrics.adjusted_rand_score(y, y_pred), 3))\n",
        "  print(\"Classification Report: \")\n",
        "  print(classification_report(y, y_pred))\n"
      ],
      "execution_count": 47,
      "outputs": [
        {
          "output_type": "stream",
          "text": [
            "ISOLATION FOREST number of errors: 47\n",
            "col_0       0    1\n",
            "Class             \n",
            "0      173595   27\n",
            "1          20  374\n",
            "Adjusted Rand Index :  0.94\n",
            "Classification Report: \n",
            "              precision    recall  f1-score   support\n",
            "\n",
            "           0       1.00      1.00      1.00    173622\n",
            "           1       0.93      0.95      0.94       394\n",
            "\n",
            "    accuracy                           1.00    174016\n",
            "   macro avg       0.97      0.97      0.97    174016\n",
            "weighted avg       1.00      1.00      1.00    174016\n",
            "\n",
            "LOCAL OUTLIER FACTOR number of errors: 731\n",
            "col_0       0    1\n",
            "Class             \n",
            "0      173253  369\n",
            "1         362   32\n",
            "Adjusted Rand Index :  0.078\n",
            "Classification Report: \n",
            "              precision    recall  f1-score   support\n",
            "\n",
            "           0       1.00      1.00      1.00    173622\n",
            "           1       0.08      0.08      0.08       394\n",
            "\n",
            "    accuracy                           1.00    174016\n",
            "   macro avg       0.54      0.54      0.54    174016\n",
            "weighted avg       1.00      1.00      1.00    174016\n",
            "\n",
            "ONE CLASS SVM number of errors: 579\n",
            "col_0       0    1\n",
            "Class             \n",
            "0      173330  292\n",
            "1         287  107\n",
            "Adjusted Rand Index :  0.267\n",
            "Classification Report: \n",
            "              precision    recall  f1-score   support\n",
            "\n",
            "           0       1.00      1.00      1.00    173622\n",
            "           1       0.27      0.27      0.27       394\n",
            "\n",
            "    accuracy                           1.00    174016\n",
            "   macro avg       0.63      0.63      0.63    174016\n",
            "weighted avg       1.00      1.00      1.00    174016\n",
            "\n"
          ],
          "name": "stdout"
        }
      ]
    },
    {
      "cell_type": "code",
      "metadata": {
        "id": "nCr4LE36oASZ",
        "outputId": "6b87064c-626d-4029-b5c5-b96fa3deb4d3",
        "colab": {
          "base_uri": "https://localhost:8080/",
          "height": 499
        }
      },
      "source": [
        "pca = PCA(2)\n",
        "x_pca = pca.fit_transform(X)\n",
        "x_pca = pd.DataFrame(x_pca)\n",
        "x_pca.columns = ['pc1', 'pc2']\n",
        "\n",
        "plt.figure(figsize=(12, 8))\n",
        "plt.title('Sample Distribution on First 2 PCAs by Class Color')\n",
        "plt.scatter(x_pca['pc1'], x_pca['pc2'], alpha=0.6, c=y)\n",
        "plt.show()"
      ],
      "execution_count": 48,
      "outputs": [
        {
          "output_type": "display_data",
          "data": {
            "image/png": "[encoded data removed]",
            "text/plain": [
              "<Figure size 864x576 with 1 Axes>"
            ]
          },
          "metadata": {
            "tags": [],
            "needs_background": "light"
          }
        }
      ]
    },
    {
      "cell_type": "code",
      "metadata": {
        "id": "qPjspHzorXwZ"
      },
      "source": [
        ""
      ],
      "execution_count": null,
      "outputs": []
    }
  ]
}